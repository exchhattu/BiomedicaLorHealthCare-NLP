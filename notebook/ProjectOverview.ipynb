{
 "cells": [
  {
   "cell_type": "markdown",
   "metadata": {},
   "source": [
    "# Biomedical Text Mining - recognition of biomedical entity in corpus"
   ]
  },
  {
   "cell_type": "markdown",
   "metadata": {},
   "source": [
    "## Overview\n",
    "Biomedical text mining is important because it provides useful information relevant to human health. This can directly benefit the healthcare industry (biotech, pharmaceutical, and insurance) and the public.  Here, the goal is to curate the unstructured data and to identify biological entities such as disease name, gene/protein, and chemical name using deep learning methods. \n",
    "\n",
    "## Data\n",
    "### Manually curated data\n",
    "This is a daunting task because they are labor-intensive,  time-consuming and required domain knowledge. Thus, the size of the dataset is very small.  \n",
    "\n",
    "* [NCBIDisease](https://www.ncbi.nlm.nih.gov/CBBresearch/Dogan/DISEASE/) \n",
    "  * Abstract: 791\n",
    "  * Sentences and words: 167183 and 7149\n",
    "  * Annotated disease name: 6881\n",
    "  * Uniquely annotated disease name: 1999\n",
    "\n",
    "* [Biocreative](https://biocreative.bioinformatics.udel.edu/tasks/biocreative-v/track-3-cdr/)\n",
    "  * Abstract: 1500\n",
    "  * Sentences and words: 320767 and 15132\n",
    "  * Annotated disease name: 31901\n",
    "  * Uniquely annotated disease name: 5656\n",
    "\n",
    "### Unannoated or automatically annotated sources\n",
    "- [Pubmed](https://www.nlm.nih.gov/databases/download/pubmed_medline.html) \n",
    "- [PubTator Central (PTC)](https://www.ncbi.nlm.nih.gov/research/pubtator/)\n"
   ]
  },
  {
   "cell_type": "markdown",
   "metadata": {},
   "source": [
    "## Transfer Learning\n",
    "Annotation of a biomedical entity using automated methods can overcome the drawback of manual curation in terms of speed up but it reduces accuracy. On the other hand, transfer learning can provide an alternative approach in which the knowledge of uncurated or automatically parsed data can be used to learn with a manually created target. It overcomes the data scarcity and generalizes in the model to achieve superior performance. The idea is successfully implemented in many domains (speech recognition, finance, and computer vision) using a deep neural network.    "
   ]
  },
  {
   "cell_type": "markdown",
   "metadata": {},
   "source": [
    "## References"
   ]
  },
  {
   "cell_type": "markdown",
   "metadata": {},
   "source": [
    "* Giorgi, J. M., & Bader, G. D. (2018). Transfer learning for biomedical named entity recognition with neural networks. Bioinformatics, 34(23), 4087–4094. doi: 10.1093/bioinformatics/bty449\n",
    "* Lee, J., Yoon, W., Kim, S., Kim, D., Kim, S., So, C. H., & Kang, J. (2019). BioBERT: a pre-trained biomedical language representation model for biomedical text mining. Bioinformatics. doi: 10.1093/bioinformatics/btz682\n",
    "* Esteva, A., Robicquet, A., Ramsundar, B. et al. A guide to deep learning in healthcare. Nat Med 25, 24–29 (2019) doi:10.1038/s41591-018-0316-z"
   ]
  },
  {
   "cell_type": "code",
   "execution_count": null,
   "metadata": {},
   "outputs": [],
   "source": []
  }
 ],
 "metadata": {
  "kernelspec": {
   "display_name": "Python 3",
   "language": "python",
   "name": "python3"
  },
  "language_info": {
   "codemirror_mode": {
    "name": "ipython",
    "version": 3
   },
   "file_extension": ".py",
   "mimetype": "text/x-python",
   "name": "python",
   "nbconvert_exporter": "python",
   "pygments_lexer": "ipython3",
   "version": "3.6.0"
  }
 },
 "nbformat": 4,
 "nbformat_minor": 2
}
