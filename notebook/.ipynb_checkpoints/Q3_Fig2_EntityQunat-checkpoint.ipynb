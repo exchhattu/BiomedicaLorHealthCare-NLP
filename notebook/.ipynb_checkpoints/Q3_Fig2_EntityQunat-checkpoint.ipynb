{
 "cells": [
  {
   "cell_type": "markdown",
   "metadata": {},
   "source": [
    "### Transfer Learning\n",
    "It is not easy to generate high quality benchmarking dataset in the biomedical natural language processing domain. The primary reasons are the requirement of domain-knowledge and economics cost. Exploring the known entity in a new corpus would increase the data used for learning, which ultimately increased the performance of a model. To achieve the goal,  I asked a question - does entity can be quantified for learning?\n",
    "\n",
    "Three input data are required.  \n",
    "1. NCBI_UniquePubmedID.txt/NCBI_corpus_gs.out\n",
    "2. CDR_UniquePubmedID.txt/CDR_gs.out\n",
    "3. [disease2pubtatorcentral](https://www.ncbi.nlm.nih.gov/research/pubtator/)\n",
    "\n",
    "The files mentioned in first and second should generate using the [program](https://github.com/exchhattu/BiomedicaLorHealthCare-NLP) "
   ]
  },
  {
   "cell_type": "code",
   "execution_count": 1,
   "metadata": {},
   "outputs": [],
   "source": [
    "import numpy as np"
   ]
  },
  {
   "cell_type": "code",
   "execution_count": 2,
   "metadata": {},
   "outputs": [],
   "source": [
    "def get_gs_pubmedids(path_to_file=\"\"):\n",
    "  with open(path_to_file, \"r\") as fo_read:\n",
    "    ts_readlines = fo_read.read().split(\"\\n\")\n",
    "  return ts_readlines"
   ]
  },
  {
   "cell_type": "code",
   "execution_count": 3,
   "metadata": {},
   "outputs": [],
   "source": [
    "ncbi_pubs = get_gs_pubmedids(\"./data/NCBI_disease_corpus/NCBI_UniquePubmedID.txt\")\n",
    "cdr_pubs = get_gs_pubmedids(\"./data/CDR/CDR_UniquePubmedID.txt\")"
   ]
  },
  {
   "cell_type": "code",
   "execution_count": 4,
   "metadata": {},
   "outputs": [],
   "source": [
    "def select_pubmedids_randomly(path_to_file, ts_unique_gs_pubmed_ids = ncbi_pubs + cdr_pubs):\n",
    "  # ma_diseases = {}\n",
    "  ma_diseases_count = {}\n",
    "  # get random numbers  \n",
    "  np.random.seed(6)\n",
    "  ar_choices = np.sort(np.random.choice(range(35000000), 20000000, replace=False))\n",
    " \n",
    "  in_line_count    = -1\n",
    "  in_ar_idx        = 0\n",
    "  in_unique_pubmed = 0\n",
    "  with open(path_to_file, \"r\") as fo_read:\n",
    "    # select either 50000 non repetitive pubmeds \n",
    "    while in_unique_pubmed < 50000 and in_ar_idx < ar_choices.shape[0]:\n",
    "      st_line = fo_read.readline().split(\"\\n\")[0]\n",
    "      in_line_count += 1\n",
    "      if in_line_count < ar_choices[in_ar_idx]:\n",
    "        continue\n",
    "      elif in_line_count == ar_choices[in_ar_idx]:\n",
    "        st_parts = st_line.split(\"\\t\")\n",
    "        #print(\"if \", in_line_count, st_parts, ar_choices[in_ar_idx])\n",
    "        st_pubmed_id = st_parts[0]\n",
    "        if not st_parts[-1] == \"TaggerOne\": continue\n",
    "        if not st_pubmed_id in ts_unique_gs_pubmed_ids:\n",
    "          # print(\"if12 \", in_line_count, st_parts, ar_choices[in_ar_idx])\n",
    "          st_did = st_parts[2].replace(\"MESH:\",\"\")\n",
    "          # ma_diseases[st_did] = ma_diseases.get(st_did, [])\n",
    "          # ma_diseases[st_did].append(st_parts[3])\n",
    "          \n",
    "          ma_diseases_count[st_did] = ma_diseases_count.get(st_did, 0) + 1\n",
    "          \n",
    "      in_ar_idx += 1\n",
    "  # return ma_diseases.copy(), ma_diseases_count.copy()\n",
    "  return ma_diseases_count.copy()\n",
    "      "
   ]
  },
  {
   "cell_type": "code",
   "execution_count": 5,
   "metadata": {},
   "outputs": [],
   "source": [
    "ma_diseases_count = select_pubmedids_randomly(\"./data/pubtator/disease2pubtatorcentral\") #disease2pubtatorcentral1000.dat\")"
   ]
  },
  {
   "cell_type": "code",
   "execution_count": 6,
   "metadata": {},
   "outputs": [],
   "source": [
    "# Disease entity identified in manually curated from two different corpus \n",
    "\n",
    "di_gs_count = {}\n",
    "def parse_gs_dner_dcount(path_to_file):\n",
    "  ts_unique_diseases = []\n",
    "  with open(path_to_file, \"r\") as fo_read:\n",
    "    ts_lines = fo_read.read().split(\"\\n\")\n",
    "    for st_line in ts_lines:\n",
    "      if st_line.startswith(\"UniqueDiseaseCount:\"):\n",
    "        # only first two columns are required\n",
    "        ts_columns = st_line.replace(\"UniqueDiseaseCount: \", \"\").split(\",\")\n",
    "        di_gs_count[ts_columns[0]] = di_gs_count.get(ts_columns[0], 0) + int(ts_columns[1])\n",
    "\n",
    "parse_gs_dner_dcount(\"./data/NCBI_disease_corpus/NCBI_corpus_gs.out\")\n",
    "parse_gs_dner_dcount(\"./data/CDR/CDR_gs.out\")\n",
    "\n",
    "# Quantify the entity from secondary data source for which mutually exclusive \n",
    "# 50K research articles were randomly selected. Afterward, log ratio of entity \n",
    "# between two source was taken, which indicates the changes in fold.\n",
    "di_logratio = {}\n",
    "di_gs_updated = {}\n",
    "for st_gs_key in di_gs_count.keys():\n",
    "  if st_gs_key in ma_diseases_count.keys():\n",
    "    di_logratio[st_gs_key] = np.log10(ma_diseases_count[st_gs_key]) - np.log10(di_gs_count[st_gs_key])\n",
    "    di_gs_updated[st_gs_key] = di_gs_count[st_gs_key]\n",
    "\n",
    "X = np.zeros(len(di_gs_updated))\n",
    "Y = np.zeros(len(di_gs_updated))\n",
    "\n",
    "i = 0\n",
    "for st_key in di_logratio.keys():\n",
    "  X[i]= di_gs_updated[st_key]\n",
    "  Y[i]= di_logratio[st_key]\n",
    "  i += 1"
   ]
  },
  {
   "cell_type": "code",
   "execution_count": 7,
   "metadata": {},
   "outputs": [],
   "source": [
    "%matplotlib inline\n",
    "import matplotlib as mpl\n",
    "import matplotlib.pyplot as plt\n",
    "import matplotlib.colors as colors\n",
    "\n",
    "import seaborn as sns\n",
    "\n",
    "mpl.rc('axes', labelsize=14)\n",
    "mpl.rc('xtick', labelsize=12)\n",
    "mpl.rc('ytick', labelsize=12)\n",
    "\n",
    "font      = {'family':'arial', 'style':'normal', 'size':18}\n",
    "axis_font = {'family':'arial', 'style':'normal', 'size':18}\n",
    "plt.rc('font', **font)"
   ]
  },
  {
   "cell_type": "code",
   "execution_count": 8,
   "metadata": {},
   "outputs": [
    {
     "data": {
      "image/png": "[encoded data removed]",
      "text/plain": [
       "<Figure size 576x576 with 1 Axes>"
      ]
     },
     "metadata": {
      "needs_background": "light"
     },
     "output_type": "display_data"
    }
   ],
   "source": [
    "fig  = plt.figure(figsize=(8, 8))\n",
    "ax   = fig.add_subplot(111)\n",
    "ax.scatter(X, Y, s=100, color='green', edgecolor=\"green\")\n",
    "ax.tick_params(axis=\"both\", labelsize=18)\n",
    "ax.set_xlabel(\"Frequency of disease in gold standard data\", axis_font, labelpad=20)\n",
    "ax.set_ylabel(\"Quantification\", axis_font, labelpad=20)\n",
    "plt.tight_layout()\n",
    "plt.show()"
   ]
  },
  {
   "cell_type": "markdown",
   "metadata": {},
   "source": [
    "This approach allows learning from more data to develop a model. Interestingly, the least quantified entities were increased at most as shown in the graph above. This not only increases the entity but provides the diverse contexts of the entity. This is useful for developing deep neural network model.  "
   ]
  },
  {
   "cell_type": "code",
   "execution_count": null,
   "metadata": {},
   "outputs": [],
   "source": []
  }
 ],
 "metadata": {
  "kernelspec": {
   "display_name": "Python 3",
   "language": "python",
   "name": "python3"
  },
  "language_info": {
   "codemirror_mode": {
    "name": "ipython",
    "version": 3
   },
   "file_extension": ".py",
   "mimetype": "text/x-python",
   "name": "python",
   "nbconvert_exporter": "python",
   "pygments_lexer": "ipython3",
   "version": "3.6.0"
  }
 },
 "nbformat": 4,
 "nbformat_minor": 2
}
